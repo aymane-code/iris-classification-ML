{
 "cells": [
  {
   "cell_type": "code",
   "execution_count": 3,
   "id": "initial_id",
   "metadata": {
    "collapsed": true,
    "ExecuteTime": {
     "end_time": "2024-05-23T11:06:26.894986400Z",
     "start_time": "2024-05-23T11:06:26.841287800Z"
    }
   },
   "outputs": [],
   "source": [
    "import numpy as np\n",
    "from collections import Counter\n",
    "\n",
    "# Jeu de données\n",
    "X = np.array([0.5, 1, 2, 3.7, 5.1, 6, 7])\n",
    "y = np.array(['T', 'C', 'C', 'T', 'T', 'C', 'C'])\n",
    "\n",
    "k = 3\n",
    "\n",
    "# Fonction pour calculer la distance euclidienne\n",
    "def euclidean_distance(x1, x2):\n",
    "    return np.sqrt((x1 - x2) ** 2)\n",
    "\n",
    "# Fonction pour trouver les k plus proches voisins\n",
    "def get_knn(X, point, k):\n",
    "    distances = [euclidean_distance(point, x) for x in X]\n",
    "    k_n_indices = np.argsort(distances)[:k]\n",
    "    return k_n_indices\n",
    "\n",
    "\n",
    "def determine_la_class(k_n_classes):\n",
    "    votes = {}\n",
    "    for class_label in k_n_classes:\n",
    "        if class_label in votes:\n",
    "            votes[class_label] += 1\n",
    "        else:\n",
    "            votes[class_label] = 1\n",
    "    voted_class = max(votes, key=votes.get)\n",
    "    return voted_class\n",
    "\n",
    "\n",
    "def predict_classification(X, y, point, k):\n",
    "    k_n_indices = get_knn(X, point, k)\n",
    "    print(\"k_n_indices\",k_n_indices)\n",
    "    k_n_classes = [y[i] for i in k_n_indices]\n",
    "    # Utilisation de la fonction pour déterminer la classe \n",
    "    print(\"k_n_classes\",k_n_classes)\n",
    "    Pclass = determine_la_class(k_n_classes)\n",
    "    return Pclass\n",
    "\n",
    "# Fonction pour prédire les classes de plusieurs points\n",
    "def predict_multiple_points(X, y, points, k):\n",
    "    predictions = [predict_classification(X, y, point, k) for point in points]\n",
    "    return predictions\n"
   ]
  },
  {
   "cell_type": "code",
   "execution_count": 4,
   "outputs": [
    {
     "name": "stdout",
     "output_type": "stream",
     "text": [
      "k_n_indices [2 3 1]\n",
      "k_n_classes ['C', 'T', 'C']\n",
      "k_n_indices [3 4 2]\n",
      "k_n_classes ['T', 'T', 'C']\n",
      "k_n_indices [4 5 6]\n",
      "k_n_classes ['T', 'C', 'C']\n",
      "La classe prédite pour le point 2.5 est 'C'\n",
      "La classe prédite pour le point 4.0 est 'T'\n",
      "La classe prédite pour le point 5.5 est 'C'\n"
     ]
    }
   ],
   "source": [
    "# Points à prédire\n",
    "points_to_predict = [2.5, 4.0, 5.5]\n",
    "# Prédiction des classes pour les points donnés\n",
    "predicted_classes = predict_multiple_points(X, y, points_to_predict, k)\n",
    "for point, prediction in zip(points_to_predict, predicted_classes):\n",
    "    print(f\"La classe prédite pour le point {point} est '{prediction}'\")"
   ],
   "metadata": {
    "collapsed": false,
    "ExecuteTime": {
     "end_time": "2024-05-23T11:06:29.882995700Z",
     "start_time": "2024-05-23T11:06:29.844272400Z"
    }
   },
   "id": "62437815ae61bc2d"
  },
  {
   "cell_type": "code",
   "execution_count": null,
   "outputs": [],
   "source": [],
   "metadata": {
    "collapsed": false
   },
   "id": "2aca5e6c51b7186f"
  }
 ],
 "metadata": {
  "kernelspec": {
   "display_name": "Python 3",
   "language": "python",
   "name": "python3"
  },
  "language_info": {
   "codemirror_mode": {
    "name": "ipython",
    "version": 2
   },
   "file_extension": ".py",
   "mimetype": "text/x-python",
   "name": "python",
   "nbconvert_exporter": "python",
   "pygments_lexer": "ipython2",
   "version": "2.7.6"
  }
 },
 "nbformat": 4,
 "nbformat_minor": 5
}
